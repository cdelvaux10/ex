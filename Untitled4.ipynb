{
 "cells": [
  {
   "cell_type": "code",
   "execution_count": 1,
   "id": "ac92c04f-a16e-4b35-a9a0-d59de756fa87",
   "metadata": {},
   "outputs": [],
   "source": [
    "import pandas as pd\n",
    "import json\n",
    "import requests\n",
    "import base64\n",
    "import matplotlib.pyplot as plt\n",
    "import six\n",
    "import statsmodels.formula.api as smf\n",
    "import numpy as np"
   ]
  },
  {
   "cell_type": "code",
   "execution_count": 5,
   "id": "4e09d502-7c69-42d8-92d2-f472cf540af6",
   "metadata": {},
   "outputs": [
    {
     "data": {
      "text/html": [
       "<div>\n",
       "<style scoped>\n",
       "    .dataframe tbody tr th:only-of-type {\n",
       "        vertical-align: middle;\n",
       "    }\n",
       "\n",
       "    .dataframe tbody tr th {\n",
       "        vertical-align: top;\n",
       "    }\n",
       "\n",
       "    .dataframe thead th {\n",
       "        text-align: right;\n",
       "    }\n",
       "</style>\n",
       "<table border=\"1\" class=\"dataframe\">\n",
       "  <thead>\n",
       "    <tr style=\"text-align: right;\">\n",
       "      <th></th>\n",
       "      <th>Year</th>\n",
       "      <th>State</th>\n",
       "      <th>Indicator</th>\n",
       "      <th>Response</th>\n",
       "      <th>% Value</th>\n",
       "    </tr>\n",
       "  </thead>\n",
       "  <tbody>\n",
       "    <tr>\n",
       "      <th>0</th>\n",
       "      <td>2020.0</td>\n",
       "      <td>Pennsylvania</td>\n",
       "      <td>Adults aged 65+ who have lost six or more teet...</td>\n",
       "      <td>Yes</td>\n",
       "      <td>36.1</td>\n",
       "    </tr>\n",
       "  </tbody>\n",
       "</table>\n",
       "</div>"
      ],
      "text/plain": [
       "     Year         State                                          Indicator  \\\n",
       "0  2020.0  Pennsylvania  Adults aged 65+ who have lost six or more teet...   \n",
       "\n",
       "  Response  % Value   \n",
       "0      Yes      36.1  "
      ]
     },
     "execution_count": 5,
     "metadata": {},
     "output_type": "execute_result"
    }
   ],
   "source": [
    "PaData = pd.read_csv( r\"C:\\Users\\conne\\Downloads\\ExportCSV.csv\")\n",
    "PaData = PaData.drop(columns=['LocationAbbr','Datasource','Parent1','Data_Value_Type','Data_Value_Unit','Data_Value_Footnote_Symbol','Low_Confidence_Limit','High_Confidence_Limit','Stratification','StratificationType','Sample_Size','IndicatorID','DatasourceText','DatasourceURL','Global_Footnote','Suggested_Citation','Data_Value_Footnote'])\n",
    "PaData_filtered = PaData[PaData['Response'] == 'Yes']\n",
    "PaData_filtered = PaData_filtered.rename(columns={\n",
    "    'LocationDesc': 'State',\n",
    "    'Data_Value': '% Value '\n",
    "})\n",
    "PaData_filtered.head()"
   ]
  },
  {
   "cell_type": "code",
   "execution_count": 22,
   "id": "df7cfc92-ba1a-4251-a09d-9dcfe9ac8706",
   "metadata": {},
   "outputs": [
    {
     "data": {
      "text/html": [
       "<div>\n",
       "<style scoped>\n",
       "    .dataframe tbody tr th:only-of-type {\n",
       "        vertical-align: middle;\n",
       "    }\n",
       "\n",
       "    .dataframe tbody tr th {\n",
       "        vertical-align: top;\n",
       "    }\n",
       "\n",
       "    .dataframe thead th {\n",
       "        text-align: right;\n",
       "    }\n",
       "</style>\n",
       "<table border=\"1\" class=\"dataframe\">\n",
       "  <thead>\n",
       "    <tr style=\"text-align: right;\">\n",
       "      <th></th>\n",
       "      <th>Year</th>\n",
       "      <th>State</th>\n",
       "      <th>Indicator</th>\n",
       "      <th>% Value</th>\n",
       "    </tr>\n",
       "  </thead>\n",
       "  <tbody>\n",
       "    <tr>\n",
       "      <th>0</th>\n",
       "      <td>2020.0</td>\n",
       "      <td>Pennsylvania</td>\n",
       "      <td>Percentage of PWS population receiving fluorid...</td>\n",
       "      <td>60.0</td>\n",
       "    </tr>\n",
       "  </tbody>\n",
       "</table>\n",
       "</div>"
      ],
      "text/plain": [
       "     Year         State                                          Indicator  \\\n",
       "0  2020.0  Pennsylvania  Percentage of PWS population receiving fluorid...   \n",
       "\n",
       "   % Value  \n",
       "0     60.0  "
      ]
     },
     "execution_count": 22,
     "metadata": {},
     "output_type": "execute_result"
    }
   ],
   "source": [
    "\n",
    "\n",
    "Pafloride = pd.read_csv(r'C:\\Users\\conne\\Downloads\\pafloride.csv')\n",
    "\n",
    "Pafloride = Pafloride.drop(columns=[\n",
    "    'LocationAbbr', 'StateAbbr', 'DataSource', 'Parent1', 'IndicatorId', \n",
    "    'TypeOrder', 'Data_Value_Unit', 'Data_Value_Type', 'LocationOrder', \n",
    "    'DatasourceText', 'DatasourceURL', 'Global_Footnote', 'Suggested_Citation', \n",
    "    'Data_Value_Footnote', 'Data_Value_Footnote_Symbol', 'TypeID'\n",
    "])\n",
    "Pafloride_filtered = Pafloride[Pafloride['Type'] == 'Fluoridated'].drop(columns=['Type'])\n",
    "Pafloride_filtered = Pafloride_filtered.rename(columns={\n",
    "    'LocationDesc': 'State',\n",
    "    'Data_Value': '% Value'\n",
    "})\n",
    "# Display the filtered and cleaned data\n",
    "Pafloride_filtered.head()\n"
   ]
  },
  {
   "cell_type": "code",
   "execution_count": null,
   "id": "7c868471-aba7-48a2-b874-4c1e8aa7e86e",
   "metadata": {},
   "outputs": [],
   "source": []
  },
  {
   "cell_type": "code",
   "execution_count": null,
   "id": "87c570f2-3da3-4cf0-861d-0188fc487390",
   "metadata": {},
   "outputs": [],
   "source": []
  }
 ],
 "metadata": {
  "kernelspec": {
   "display_name": "Python 3 (ipykernel)",
   "language": "python",
   "name": "python3"
  },
  "language_info": {
   "codemirror_mode": {
    "name": "ipython",
    "version": 3
   },
   "file_extension": ".py",
   "mimetype": "text/x-python",
   "name": "python",
   "nbconvert_exporter": "python",
   "pygments_lexer": "ipython3",
   "version": "3.12.3"
  }
 },
 "nbformat": 4,
 "nbformat_minor": 5
}
