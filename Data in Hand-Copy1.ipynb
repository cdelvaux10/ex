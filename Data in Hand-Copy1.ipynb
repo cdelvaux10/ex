{
 "cells": [
  {
   "cell_type": "markdown",
   "id": "60f9ffb0-caae-45fe-a3b0-862d45577a50",
   "metadata": {},
   "source": [
    "The general plan is to analyze the relationship between water fluoridation and dental health outcomes across U.S. states. I will compare the percentage of each state's population with access to fluoridated water to the percentage of adults aged 65+ who have lost six or more teeth due to tooth decay or gum disease, as well as to the state's overall ranking in oral health, to identify potential correlations."
   ]
  },
  {
   "cell_type": "code",
   "execution_count": 3,
   "id": "57ed9b3e-03d0-42b4-952e-94cdfd586ce6",
   "metadata": {},
   "outputs": [],
   "source": [
    "import pandas as pd\n",
    "import json\n",
    "import requests\n",
    "import base64\n",
    "import matplotlib.pyplot as plt\n",
    "import six\n",
    "import statsmodels.formula.api as smf\n",
    "import numpy as np"
   ]
  },
  {
   "cell_type": "code",
   "execution_count": 10,
   "id": "29caaee5-c028-46f0-bf9a-4f082af8d5cd",
   "metadata": {},
   "outputs": [
    {
     "data": {
      "text/html": [
       "<div>\n",
       "<style scoped>\n",
       "    .dataframe tbody tr th:only-of-type {\n",
       "        vertical-align: middle;\n",
       "    }\n",
       "\n",
       "    .dataframe tbody tr th {\n",
       "        vertical-align: top;\n",
       "    }\n",
       "\n",
       "    .dataframe thead th {\n",
       "        text-align: right;\n",
       "    }\n",
       "</style>\n",
       "<table border=\"1\" class=\"dataframe\">\n",
       "  <thead>\n",
       "    <tr style=\"text-align: right;\">\n",
       "      <th></th>\n",
       "      <th>Year</th>\n",
       "      <th>LocationAbbr</th>\n",
       "      <th>LocationDesc</th>\n",
       "      <th>Parent1</th>\n",
       "      <th>Indicator</th>\n",
       "      <th>Data_Value_Unit</th>\n",
       "      <th>Data_Value</th>\n",
       "    </tr>\n",
       "  </thead>\n",
       "  <tbody>\n",
       "    <tr>\n",
       "      <th>0</th>\n",
       "      <td>2020.0</td>\n",
       "      <td>PA</td>\n",
       "      <td>Pennsylvania</td>\n",
       "      <td>Adult</td>\n",
       "      <td>Adults aged 65+ who have lost six or more teet...</td>\n",
       "      <td>%</td>\n",
       "      <td>36.1</td>\n",
       "    </tr>\n",
       "    <tr>\n",
       "      <th>1</th>\n",
       "      <td>2020.0</td>\n",
       "      <td>PA</td>\n",
       "      <td>Pennsylvania</td>\n",
       "      <td>Adult</td>\n",
       "      <td>Adults aged 65+ who have lost six or more teet...</td>\n",
       "      <td>%</td>\n",
       "      <td>63.9</td>\n",
       "    </tr>\n",
       "  </tbody>\n",
       "</table>\n",
       "</div>"
      ],
      "text/plain": [
       "     Year LocationAbbr  LocationDesc Parent1  \\\n",
       "0  2020.0           PA  Pennsylvania   Adult   \n",
       "1  2020.0           PA  Pennsylvania   Adult   \n",
       "\n",
       "                                           Indicator Data_Value_Unit  \\\n",
       "0  Adults aged 65+ who have lost six or more teet...               %   \n",
       "1  Adults aged 65+ who have lost six or more teet...               %   \n",
       "\n",
       "   Data_Value  \n",
       "0        36.1  \n",
       "1        63.9  "
      ]
     },
     "execution_count": 10,
     "metadata": {},
     "output_type": "execute_result"
    }
   ],
   "source": [
    "PaData = pd.read_csv( r\"C:\\Users\\conne\\Downloads\\ExportCSV.csv\")\n",
    "PaData = PaData.drop(columns=['Response','LocationAbbr','Datasource','Data_Value_Type','Data_Value_Footnote_Symbol','Low_Confidence_Limit','High_Confidence_Limit','Stratification','StratificationType','Sample_Size','IndicatorID','DatasourceText','DatasourceURL','Global_Footnote','Suggested_Citation','Data_Value_Footnote'])\n",
    "PaData.head(2)"
   ]
  },
  {
   "cell_type": "code",
   "execution_count": 5,
   "id": "b0479810-2932-49ca-810f-f3bb80b04f59",
   "metadata": {},
   "outputs": [
    {
     "data": {
      "text/plain": [
       "Index(['Year', 'LocationAbbr', 'LocationDesc', 'Parent1', 'Indicator',\n",
       "       'Response', 'Datasource', 'Data_Value_Unit', 'Data_Value_Type',\n",
       "       'Data_Value', 'Data_Value_Footnote_Symbol', 'Data_Value_Footnote',\n",
       "       'Low_Confidence_Limit', 'High_Confidence_Limit', 'Stratification',\n",
       "       'StratificationType', 'Sample_Size', 'IndicatorID', 'DatasourceText',\n",
       "       'DatasourceURL', 'Global_Footnote', 'Suggested_Citation'],\n",
       "      dtype='object')"
      ]
     },
     "execution_count": 5,
     "metadata": {},
     "output_type": "execute_result"
    }
   ],
   "source": [
    "PaData.keys()"
   ]
  },
  {
   "cell_type": "code",
   "execution_count": 15,
   "id": "7db95880-9655-489f-94d7-5f4b5697f8a8",
   "metadata": {},
   "outputs": [
    {
     "data": {
      "text/html": [
       "<div>\n",
       "<style scoped>\n",
       "    .dataframe tbody tr th:only-of-type {\n",
       "        vertical-align: middle;\n",
       "    }\n",
       "\n",
       "    .dataframe tbody tr th {\n",
       "        vertical-align: top;\n",
       "    }\n",
       "\n",
       "    .dataframe thead th {\n",
       "        text-align: right;\n",
       "    }\n",
       "</style>\n",
       "<table border=\"1\" class=\"dataframe\">\n",
       "  <thead>\n",
       "    <tr style=\"text-align: right;\">\n",
       "      <th></th>\n",
       "      <th>Year</th>\n",
       "      <th>LocationDesc</th>\n",
       "      <th>Parent1</th>\n",
       "      <th>Indicator</th>\n",
       "      <th>Data_Value_Unit</th>\n",
       "      <th>Data_Value_Type</th>\n",
       "      <th>Data_Value</th>\n",
       "      <th>Type</th>\n",
       "    </tr>\n",
       "  </thead>\n",
       "  <tbody>\n",
       "    <tr>\n",
       "      <th>0</th>\n",
       "      <td>2020.0</td>\n",
       "      <td>Pennsylvania</td>\n",
       "      <td>Water Fluoridation</td>\n",
       "      <td>Percentage of PWS population receiving fluorid...</td>\n",
       "      <td>%</td>\n",
       "      <td>Percent</td>\n",
       "      <td>60.0</td>\n",
       "      <td>Fluoridated</td>\n",
       "    </tr>\n",
       "    <tr>\n",
       "      <th>1</th>\n",
       "      <td>2020.0</td>\n",
       "      <td>Pennsylvania</td>\n",
       "      <td>Water Fluoridation</td>\n",
       "      <td>Percentage of PWS population receiving fluorid...</td>\n",
       "      <td>%</td>\n",
       "      <td>Percent</td>\n",
       "      <td>54.8</td>\n",
       "      <td>Adjusted¹</td>\n",
       "    </tr>\n",
       "    <tr>\n",
       "      <th>2</th>\n",
       "      <td>2020.0</td>\n",
       "      <td>Pennsylvania</td>\n",
       "      <td>Water Fluoridation</td>\n",
       "      <td>Percentage of PWS population receiving fluorid...</td>\n",
       "      <td>%</td>\n",
       "      <td>Percent</td>\n",
       "      <td>5.1</td>\n",
       "      <td>Consecutive¹</td>\n",
       "    </tr>\n",
       "    <tr>\n",
       "      <th>3</th>\n",
       "      <td>2020.0</td>\n",
       "      <td>Pennsylvania</td>\n",
       "      <td>Water Fluoridation</td>\n",
       "      <td>Percentage of PWS population receiving fluorid...</td>\n",
       "      <td>%</td>\n",
       "      <td>Percent</td>\n",
       "      <td>0.0</td>\n",
       "      <td>Natural¹</td>\n",
       "    </tr>\n",
       "    <tr>\n",
       "      <th>4</th>\n",
       "      <td>2020.0</td>\n",
       "      <td>Pennsylvania</td>\n",
       "      <td>Water Fluoridation</td>\n",
       "      <td>Percentage of PWS population receiving water f...</td>\n",
       "      <td>%</td>\n",
       "      <td>Percent</td>\n",
       "      <td>40.0</td>\n",
       "      <td>Non-Fluoridated¹</td>\n",
       "    </tr>\n",
       "  </tbody>\n",
       "</table>\n",
       "</div>"
      ],
      "text/plain": [
       "     Year  LocationDesc             Parent1  \\\n",
       "0  2020.0  Pennsylvania  Water Fluoridation   \n",
       "1  2020.0  Pennsylvania  Water Fluoridation   \n",
       "2  2020.0  Pennsylvania  Water Fluoridation   \n",
       "3  2020.0  Pennsylvania  Water Fluoridation   \n",
       "4  2020.0  Pennsylvania  Water Fluoridation   \n",
       "\n",
       "                                           Indicator Data_Value_Unit  \\\n",
       "0  Percentage of PWS population receiving fluorid...               %   \n",
       "1  Percentage of PWS population receiving fluorid...               %   \n",
       "2  Percentage of PWS population receiving fluorid...               %   \n",
       "3  Percentage of PWS population receiving fluorid...               %   \n",
       "4  Percentage of PWS population receiving water f...               %   \n",
       "\n",
       "  Data_Value_Type  Data_Value              Type  \n",
       "0         Percent        60.0       Fluoridated  \n",
       "1         Percent        54.8         Adjusted¹  \n",
       "2         Percent         5.1      Consecutive¹  \n",
       "3         Percent         0.0          Natural¹  \n",
       "4         Percent        40.0  Non-Fluoridated¹  "
      ]
     },
     "execution_count": 15,
     "metadata": {},
     "output_type": "execute_result"
    }
   ],
   "source": [
    "Pafloride = pd.read_csv( r'C:\\Users\\conne\\Downloads\\pafloride.csv')\n",
    "Pafloride = Pafloride.drop(columns=['LocationAbbr','StateAbbr','DataSource','IndicatorId','TypeOrder','LocationOrder','DatasourceText','DatasourceURL','Global_Footnote','Suggested_Citation','Data_Value_Footnote','Data_Value_Footnote_Symbol','TypeID'])\n",
    "\n",
    "Pafloride.head()"
   ]
  },
  {
   "cell_type": "markdown",
   "id": "0dd2fd1c-cdb7-42ed-ba6e-127007c8dd9f",
   "metadata": {},
   "source": []
  },
  {
   "cell_type": "markdown",
   "id": "8862dc68-b6df-4675-8924-f095a2699061",
   "metadata": {},
   "source": []
  },
  {
   "cell_type": "markdown",
   "id": "755362da-61dd-412b-a8c5-ef2b90582084",
   "metadata": {},
   "source": []
  }
 ],
 "metadata": {
  "kernelspec": {
   "display_name": "Python 3 (ipykernel)",
   "language": "python",
   "name": "python3"
  },
  "language_info": {
   "codemirror_mode": {
    "name": "ipython",
    "version": 3
   },
   "file_extension": ".py",
   "mimetype": "text/x-python",
   "name": "python",
   "nbconvert_exporter": "python",
   "pygments_lexer": "ipython3",
   "version": "3.12.3"
  }
 },
 "nbformat": 4,
 "nbformat_minor": 5
}
