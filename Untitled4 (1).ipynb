{
 "cells": [
  {
   "cell_type": "code",
   "execution_count": 1,
   "id": "ac92c04f-a16e-4b35-a9a0-d59de756fa87",
   "metadata": {},
   "outputs": [],
   "source": [
    "import pandas as pd\n",
    "import json\n",
    "import requests\n",
    "import base64\n",
    "import matplotlib.pyplot as plt\n",
    "import six\n",
    "import statsmodels.formula.api as smf\n",
    "import numpy as np"
   ]
  },
  {
   "cell_type": "code",
   "execution_count": 27,
   "id": "4e09d502-7c69-42d8-92d2-f472cf540af6",
   "metadata": {},
   "outputs": [
    {
     "data": {
      "text/html": [
       "<div>\n",
       "<style scoped>\n",
       "    .dataframe tbody tr th:only-of-type {\n",
       "        vertical-align: middle;\n",
       "    }\n",
       "\n",
       "    .dataframe tbody tr th {\n",
       "        vertical-align: top;\n",
       "    }\n",
       "\n",
       "    .dataframe thead th {\n",
       "        text-align: right;\n",
       "    }\n",
       "</style>\n",
       "<table border=\"1\" class=\"dataframe\">\n",
       "  <thead>\n",
       "    <tr style=\"text-align: right;\">\n",
       "      <th></th>\n",
       "      <th>Year</th>\n",
       "      <th>State</th>\n",
       "      <th>Indicator</th>\n",
       "      <th>Tooth Loss %</th>\n",
       "    </tr>\n",
       "  </thead>\n",
       "  <tbody>\n",
       "    <tr>\n",
       "      <th>0</th>\n",
       "      <td>2020.0</td>\n",
       "      <td>Pennsylvania</td>\n",
       "      <td>Adults aged 65+ who have lost six or more teet...</td>\n",
       "      <td>36.1</td>\n",
       "    </tr>\n",
       "  </tbody>\n",
       "</table>\n",
       "</div>"
      ],
      "text/plain": [
       "     Year         State                                          Indicator  \\\n",
       "0  2020.0  Pennsylvania  Adults aged 65+ who have lost six or more teet...   \n",
       "\n",
       "   Tooth Loss %  \n",
       "0          36.1  "
      ]
     },
     "execution_count": 27,
     "metadata": {},
     "output_type": "execute_result"
    }
   ],
   "source": [
    "\n",
    "PaData = pd.read_csv(r\"C:\\Users\\conne\\Downloads\\ExportCSV.csv\")\n",
    "\n",
    "PaData = PaData.drop(columns=[\n",
    "    'LocationAbbr', 'Datasource', 'Parent1', 'Data_Value_Type', \n",
    "    'Data_Value_Unit', 'Data_Value_Footnote_Symbol', 'Low_Confidence_Limit', \n",
    "    'High_Confidence_Limit', 'Stratification', 'StratificationType', \n",
    "    'Sample_Size', 'IndicatorID', 'DatasourceText', 'DatasourceURL', \n",
    "    'Global_Footnote', 'Suggested_Citation', 'Data_Value_Footnote'\n",
    "])\n",
    "\n",
    "# Filter rows where 'Response' is 'Yes' and drop the 'Response' column\n",
    "PaData_filtered = PaData[PaData['Response'] == 'Yes'].drop(columns=['Response'])\n",
    "\n",
    "# Rename the columns\n",
    "PaData_filtered = PaData_filtered.rename(columns={\n",
    "    'LocationDesc': 'State',\n",
    "    'Data_Value': 'Tooth Loss %'\n",
    "})\n",
    "\n",
    "# Display the filtered and cleaned data\n",
    "PaData_filtered.head()\n"
   ]
  },
  {
   "cell_type": "code",
   "execution_count": 28,
   "id": "df7cfc92-ba1a-4251-a09d-9dcfe9ac8706",
   "metadata": {},
   "outputs": [
    {
     "data": {
      "text/html": [
       "<div>\n",
       "<style scoped>\n",
       "    .dataframe tbody tr th:only-of-type {\n",
       "        vertical-align: middle;\n",
       "    }\n",
       "\n",
       "    .dataframe tbody tr th {\n",
       "        vertical-align: top;\n",
       "    }\n",
       "\n",
       "    .dataframe thead th {\n",
       "        text-align: right;\n",
       "    }\n",
       "</style>\n",
       "<table border=\"1\" class=\"dataframe\">\n",
       "  <thead>\n",
       "    <tr style=\"text-align: right;\">\n",
       "      <th></th>\n",
       "      <th>Year</th>\n",
       "      <th>State</th>\n",
       "      <th>Indicator</th>\n",
       "      <th>Fluoridation %</th>\n",
       "    </tr>\n",
       "  </thead>\n",
       "  <tbody>\n",
       "    <tr>\n",
       "      <th>0</th>\n",
       "      <td>2020.0</td>\n",
       "      <td>Pennsylvania</td>\n",
       "      <td>Percentage of PWS population receiving fluorid...</td>\n",
       "      <td>60.0</td>\n",
       "    </tr>\n",
       "  </tbody>\n",
       "</table>\n",
       "</div>"
      ],
      "text/plain": [
       "     Year         State                                          Indicator  \\\n",
       "0  2020.0  Pennsylvania  Percentage of PWS population receiving fluorid...   \n",
       "\n",
       "   Fluoridation %  \n",
       "0            60.0  "
      ]
     },
     "execution_count": 28,
     "metadata": {},
     "output_type": "execute_result"
    }
   ],
   "source": [
    "\n",
    "\n",
    "Pafloride = pd.read_csv(r'C:\\Users\\conne\\Downloads\\pafloride.csv')\n",
    "\n",
    "Pafloride = Pafloride.drop(columns=[\n",
    "    'LocationAbbr', 'StateAbbr', 'DataSource', 'Parent1', 'IndicatorId', \n",
    "    'TypeOrder', 'Data_Value_Unit', 'Data_Value_Type', 'LocationOrder', \n",
    "    'DatasourceText', 'DatasourceURL', 'Global_Footnote', 'Suggested_Citation', \n",
    "    'Data_Value_Footnote', 'Data_Value_Footnote_Symbol', 'TypeID'\n",
    "])\n",
    "Pafloride_filtered = Pafloride[Pafloride['Type'] == 'Fluoridated'].drop(columns=['Type'])\n",
    "Pafloride_filtered = Pafloride_filtered.rename(columns={\n",
    "    'LocationDesc': 'State',\n",
    "    'Data_Value': 'Fluoridation %'\n",
    "})\n",
    "# Display the filtered and cleaned data\n",
    "Pafloride_filtered.head()\n"
   ]
  },
  {
   "cell_type": "code",
   "execution_count": 38,
   "id": "d063b36f-152f-4f57-bc18-5b4c82583760",
   "metadata": {},
   "outputs": [
    {
     "data": {
      "text/html": [
       "<div>\n",
       "<style scoped>\n",
       "    .dataframe tbody tr th:only-of-type {\n",
       "        vertical-align: middle;\n",
       "    }\n",
       "\n",
       "    .dataframe tbody tr th {\n",
       "        vertical-align: top;\n",
       "    }\n",
       "\n",
       "    .dataframe thead th {\n",
       "        text-align: right;\n",
       "    }\n",
       "</style>\n",
       "<table border=\"1\" class=\"dataframe\">\n",
       "  <thead>\n",
       "    <tr style=\"text-align: right;\">\n",
       "      <th></th>\n",
       "      <th>Year</th>\n",
       "      <th>State</th>\n",
       "      <th>Indicator</th>\n",
       "      <th>Response</th>\n",
       "      <th>Tooth Loss %</th>\n",
       "    </tr>\n",
       "  </thead>\n",
       "  <tbody>\n",
       "    <tr>\n",
       "      <th>0</th>\n",
       "      <td>2020.0</td>\n",
       "      <td>Texas</td>\n",
       "      <td>Adults aged 65+ who have lost six or more teet...</td>\n",
       "      <td>Yes</td>\n",
       "      <td>31.5</td>\n",
       "    </tr>\n",
       "  </tbody>\n",
       "</table>\n",
       "</div>"
      ],
      "text/plain": [
       "     Year  State                                          Indicator Response  \\\n",
       "0  2020.0  Texas  Adults aged 65+ who have lost six or more teet...      Yes   \n",
       "\n",
       "   Tooth Loss %  \n",
       "0          31.5  "
      ]
     },
     "execution_count": 38,
     "metadata": {},
     "output_type": "execute_result"
    }
   ],
   "source": [
    "TexasData = pd.read_csv(r'C:\\Users\\conne\\Downloads\\Texasdata.csv')\n",
    "TexasData = TexasData.drop(columns=['LocationAbbr', 'Datasource', 'Parent1', 'Data_Value_Type', \n",
    "                                    'Data_Value_Unit', 'Data_Value_Footnote_Symbol', 'Low_Confidence_Limit', \n",
    "                                    'High_Confidence_Limit', 'Stratification', 'StratificationType', \n",
    "                                    'Sample_Size', 'IndicatorID', 'DatasourceText', 'DatasourceURL', \n",
    "                                    'Global_Footnote', 'Suggested_Citation', 'Data_Value_Footnote'])\n",
    "TexasData_filtered = TexasData[TexasData['Response'] == 'Yes']\n",
    "TexasData_filtered = TexasData_filtered.rename(columns={'LocationDesc': 'State', 'Data_Value': 'Tooth Loss %'})\n",
    "\n",
    "# Read and clean Fluoridation data for Texas (using the same process as Pennsylvania)\n",
    "TexasFluoride = pd.read_csv(r\"C:\\Users\\conne\\Downloads\\TexasFluoride.csv\")\n",
    "TexasFluoride = TexasFluoride.drop(columns=['LocationAbbr', 'StateAbbr', 'DataSource', 'Parent1', 'IndicatorId', \n",
    "                                           'TypeOrder', 'Data_Value_Unit', 'Data_Value_Type', 'LocationOrder', \n",
    "                                           'DatasourceText', 'DatasourceURL', 'Global_Footnote', 'Suggested_Citation', \n",
    "                                           'Data_Value_Footnote', 'Data_Value_Footnote_Symbol', 'TypeID'])\n",
    "TexasFluoride_filtered = TexasFluoride[TexasFluoride['Type'] == 'Fluoridated'].drop(columns=['Type'])\n",
    "TexasFluoride_filtered = TexasFluoride_filtered.rename(columns={'LocationDesc': 'State', 'Data_Value': 'Fluoridation %'})\n",
    "\n",
    "TexasFluoride_filtered.head()\n",
    "TexasData_filtered.head()"
   ]
  },
  {
   "cell_type": "code",
   "execution_count": 39,
   "id": "7c868471-aba7-48a2-b874-4c1e8aa7e86e",
   "metadata": {},
   "outputs": [
    {
     "data": {
      "text/html": [
       "<div>\n",
       "<style scoped>\n",
       "    .dataframe tbody tr th:only-of-type {\n",
       "        vertical-align: middle;\n",
       "    }\n",
       "\n",
       "    .dataframe tbody tr th {\n",
       "        vertical-align: top;\n",
       "    }\n",
       "\n",
       "    .dataframe thead th {\n",
       "        text-align: right;\n",
       "    }\n",
       "</style>\n",
       "<table border=\"1\" class=\"dataframe\">\n",
       "  <thead>\n",
       "    <tr style=\"text-align: right;\">\n",
       "      <th></th>\n",
       "      <th>Year</th>\n",
       "      <th>State</th>\n",
       "      <th>Tooth Loss %</th>\n",
       "      <th>Fluoridation %</th>\n",
       "      <th>Dental_Health_Rank</th>\n",
       "    </tr>\n",
       "  </thead>\n",
       "  <tbody>\n",
       "    <tr>\n",
       "      <th>0</th>\n",
       "      <td>2020.0</td>\n",
       "      <td>Pennsylvania</td>\n",
       "      <td>36.1</td>\n",
       "      <td>60.0</td>\n",
       "      <td>4</td>\n",
       "    </tr>\n",
       "  </tbody>\n",
       "</table>\n",
       "</div>"
      ],
      "text/plain": [
       "     Year         State  Tooth Loss %  Fluoridation %  Dental_Health_Rank\n",
       "0  2020.0  Pennsylvania          36.1            60.0                   4"
      ]
     },
     "execution_count": 39,
     "metadata": {},
     "output_type": "execute_result"
    }
   ],
   "source": [
    "PAmerged_data = pd.merge(\n",
    "    PaData_filtered[['Year', 'State', 'Tooth Loss %']], \n",
    "    Pafloride_filtered[['Year', 'State', 'Fluoridation %']], \n",
    "    on=['Year', 'State'], \n",
    "    how='inner'  # Ensures only matching rows are included\n",
    ")\n",
    "PAmerged_data['Dental_Health_Rank'] = merged_data['State'].apply(lambda x: 4 if x == 'Pennsylvania' else '')\n",
    "\n",
    "# Display the merged dataset\n",
    "merged_data.head()"
   ]
  },
  {
   "cell_type": "code",
   "execution_count": 46,
   "id": "87c570f2-3da3-4cf0-861d-0188fc487390",
   "metadata": {},
   "outputs": [
    {
     "data": {
      "text/html": [
       "<div>\n",
       "<style scoped>\n",
       "    .dataframe tbody tr th:only-of-type {\n",
       "        vertical-align: middle;\n",
       "    }\n",
       "\n",
       "    .dataframe tbody tr th {\n",
       "        vertical-align: top;\n",
       "    }\n",
       "\n",
       "    .dataframe thead th {\n",
       "        text-align: right;\n",
       "    }\n",
       "</style>\n",
       "<table border=\"1\" class=\"dataframe\">\n",
       "  <thead>\n",
       "    <tr style=\"text-align: right;\">\n",
       "      <th></th>\n",
       "      <th>Year</th>\n",
       "      <th>State</th>\n",
       "      <th>Tooth Loss %</th>\n",
       "      <th>Fluoridation %</th>\n",
       "      <th>Dental_Health_Rank</th>\n",
       "    </tr>\n",
       "  </thead>\n",
       "  <tbody>\n",
       "    <tr>\n",
       "      <th>0</th>\n",
       "      <td>2020.0</td>\n",
       "      <td>Texas</td>\n",
       "      <td>31.5</td>\n",
       "      <td>71.0</td>\n",
       "      <td></td>\n",
       "    </tr>\n",
       "  </tbody>\n",
       "</table>\n",
       "</div>"
      ],
      "text/plain": [
       "     Year  State  Tooth Loss %  Fluoridation % Dental_Health_Rank\n",
       "0  2020.0  Texas          31.5            71.0                   "
      ]
     },
     "execution_count": 46,
     "metadata": {},
     "output_type": "execute_result"
    }
   ],
   "source": [
    "Texasmerged_data = pd.merge(\n",
    "    TexasData_filtered[['Year', 'State', 'Tooth Loss %']], \n",
    "    TexasFluoride_filtered[['Year', 'State', 'Fluoridation %']], \n",
    "    on=['Year', 'State'], \n",
    "    how='inner'  # Ensures only matching rows are included\n",
    ")\n",
    "Texasmerged_data['Dental_Health_Rank'] = merged_data['State'].apply(lambda x:' 5' if x == 'Texas' else '')\n",
    "\n",
    "# Display the merged dataset\n",
    "Texasmerged_data.head()"
   ]
  },
  {
   "cell_type": "code",
   "execution_count": null,
   "id": "b1e59136-96a6-4317-934b-5090ff796e4e",
   "metadata": {},
   "outputs": [],
   "source": []
  },
  {
   "cell_type": "code",
   "execution_count": null,
   "id": "881f9c2f-bbd6-4e85-90e5-b80f49895d3a",
   "metadata": {},
   "outputs": [],
   "source": []
  },
  {
   "cell_type": "code",
   "execution_count": null,
   "id": "a066c8d5-d605-4197-8ff5-70150e104476",
   "metadata": {},
   "outputs": [],
   "source": []
  },
  {
   "cell_type": "code",
   "execution_count": null,
   "id": "1223aa3b-16ab-4a3d-9406-5c60c6868dfa",
   "metadata": {},
   "outputs": [],
   "source": []
  },
  {
   "cell_type": "code",
   "execution_count": null,
   "id": "5cd01b72-778d-43b1-abe9-e80f7def7989",
   "metadata": {},
   "outputs": [],
   "source": []
  },
  {
   "cell_type": "code",
   "execution_count": null,
   "id": "63aec267-3fcf-4bf3-97fd-165fb9e631d7",
   "metadata": {},
   "outputs": [],
   "source": []
  }
 ],
 "metadata": {
  "kernelspec": {
   "display_name": "Python 3 (ipykernel)",
   "language": "python",
   "name": "python3"
  },
  "language_info": {
   "codemirror_mode": {
    "name": "ipython",
    "version": 3
   },
   "file_extension": ".py",
   "mimetype": "text/x-python",
   "name": "python",
   "nbconvert_exporter": "python",
   "pygments_lexer": "ipython3",
   "version": "3.12.3"
  }
 },
 "nbformat": 4,
 "nbformat_minor": 5
}
